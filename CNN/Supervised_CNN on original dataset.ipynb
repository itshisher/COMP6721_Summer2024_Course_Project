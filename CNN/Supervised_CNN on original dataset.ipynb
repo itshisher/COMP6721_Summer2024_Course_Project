{
 "cells": [
  {
   "cell_type": "code",
   "execution_count": 2,
   "id": "43deb89c",
   "metadata": {},
   "outputs": [],
   "source": [
    "import os\n",
    "import numpy as np\n",
    "import torch\n",
    "from torchvision import datasets, transforms\n",
    "from torch.utils.data import DataLoader, random_split\n",
    "import torch.nn as nn\n",
    "import torch.nn.functional as F\n",
    "import torch.optim as optim\n",
    "from sklearn.metrics import accuracy_score\n",
    "from PIL import Image\n",
    "import matplotlib.pyplot as plt\n",
    "from sklearn.metrics import confusion_matrix, ConfusionMatrixDisplay, classification_report, accuracy_score\n"
   ]
  },
  {
   "cell_type": "markdown",
   "id": "32325264",
   "metadata": {},
   "source": [
    "# Step 1: Data Preprocessing"
   ]
  },
  {
   "cell_type": "code",
   "execution_count": 3,
   "id": "236eca5b",
   "metadata": {},
   "outputs": [
    {
     "name": "stdout",
     "output_type": "stream",
     "text": [
      "The dataset path ../original_dataset exists.\n"
     ]
    }
   ],
   "source": [
    "# Define your target dataset path\n",
    "target_dir = '../original_dataset'\n",
    "\n",
    "# Check if the path exists\n",
    "if os.path.exists(target_dir):\n",
    "    print(f\"The dataset path {target_dir} exists.\")\n",
    "else:\n",
    "    print(f\"The dataset path {target_dir} does not exist.\")"
   ]
  },
  {
   "cell_type": "code",
   "execution_count": 4,
   "id": "bcf310f3",
   "metadata": {},
   "outputs": [
    {
     "name": "stdout",
     "output_type": "stream",
     "text": [
      "Status of target directory: ../original_dataset\n",
      "Class 'home_office' contains 1346 images.\n",
      "Class 'hotel_room' contains 1524 images.\n",
      "Class 'church' contains 798 images.\n",
      "Class 'museum' contains 761 images.\n",
      "Class 'supermarket' contains 1466 images.\n"
     ]
    }
   ],
   "source": [
    "classes = ['home_office', 'hotel_room', 'church', 'museum', 'supermarket']\n",
    "\n",
    "def show_target_dir_status(target_dir, classes):\n",
    "    \"\"\"\n",
    "    Show the number of images in each class directory within the target directory.\n",
    "\n",
    "    \"\"\"\n",
    "    print(f\"Status of target directory: {target_dir}\")\n",
    "    for cls in classes:\n",
    "        class_dir = os.path.join(target_dir, cls)\n",
    "        if os.path.exists(class_dir):\n",
    "            num_images = len(os.listdir(class_dir))\n",
    "            print(f\"Class '{cls}' contains {num_images} images.\")\n",
    "        else:\n",
    "            print(f\"Class directory '{cls}' does not exist.\")\n",
    "\n",
    "# Show the status of the target directory\n",
    "show_target_dir_status(target_dir, classes)"
   ]
  },
  {
   "cell_type": "code",
   "execution_count": 5,
   "id": "f803a804",
   "metadata": {},
   "outputs": [],
   "source": [
    "# Set device\n",
    "device = torch.device('mps' if torch.backends.mps.is_available() else 'cpu')\n",
    "\n",
    "# Parameters\n",
    "batch_size = 32\n",
    "image_size = (256, 256)\n",
    "\n",
    "# Transformations\n",
    "transform = transforms.Compose([\n",
    "    transforms.Resize(image_size),\n",
    "    transforms.ToTensor()\n",
    "])\n",
    "\n",
    "# Load dataset\n",
    "dataset = datasets.ImageFolder(root='../original_dataset', transform=transform)\n",
    "\n",
    "# Split dataset\n",
    "train_size = int(0.8 * len(dataset))\n",
    "test_size = len(dataset) - train_size\n",
    "train_dataset, test_dataset = random_split(dataset, [train_size, test_size])\n",
    "\n",
    "\n",
    "# Create DataLoader for training and testing\n",
    "train_loader = DataLoader(train_dataset, batch_size=batch_size, shuffle=True)\n",
    "test_loader = DataLoader(test_dataset, batch_size=batch_size, shuffle=False)"
   ]
  },
  {
   "cell_type": "markdown",
   "id": "d539e002",
   "metadata": {},
   "source": [
    "# Step 2: Define the CNN Model"
   ]
  },
  {
   "cell_type": "code",
   "execution_count": 6,
   "id": "66a2129c",
   "metadata": {},
   "outputs": [],
   "source": [
    "class CNN(nn.Module):\n",
    "    def __init__(self):\n",
    "        super(CNN, self).__init__()\n",
    "        # Define the layers of the CNN\n",
    "        self.conv1 = nn.Conv2d(3, 32, kernel_size=3, padding=1)\n",
    "        self.conv2 = nn.Conv2d(32, 64, kernel_size=3, padding=1)\n",
    "        self.conv3 = nn.Conv2d(64, 128, kernel_size=3, padding=1)\n",
    "        self.pool = nn.MaxPool2d(kernel_size=2, stride=2, padding=0)\n",
    "        self.fc1 = nn.Linear(128 * 32 * 32, 512)\n",
    "        self.fc2 = nn.Linear(512, len(dataset.classes))\n",
    "        self.dropout = nn.Dropout(0.25)\n",
    "\n",
    "    def forward(self, x):\n",
    "        # Define the forward pass\n",
    "        x = self.pool(F.relu(self.conv1(x)))\n",
    "        x = self.pool(F.relu(self.conv2(x)))\n",
    "        x = self.pool(F.relu(self.conv3(x)))\n",
    "        x = x.view(-1, 128 * 32 * 32)\n",
    "        x = F.relu(self.fc1(x))\n",
    "        x = self.dropout(x)\n",
    "        x = self.fc2(x)\n",
    "        return x\n",
    "\n",
    "# Initialize the model and move it to the device\n",
    "model = CNN().to(device)"
   ]
  },
  {
   "cell_type": "markdown",
   "id": "52eca434",
   "metadata": {},
   "source": [
    "# Step 3: Training the Model"
   ]
  },
  {
   "cell_type": "code",
   "execution_count": 7,
   "id": "729163b2",
   "metadata": {},
   "outputs": [
    {
     "name": "stdout",
     "output_type": "stream",
     "text": [
      "Epoch 1/10, Train Loss: 1.3364, Validation Loss: 1.0284, Validation Accuracy: 0.6022\n",
      "Epoch 2/10, Train Loss: 1.0295, Validation Loss: 1.1210, Validation Accuracy: 0.5573\n",
      "Epoch 3/10, Train Loss: 0.8990, Validation Loss: 0.8871, Validation Accuracy: 0.6522\n",
      "Epoch 4/10, Train Loss: 0.7462, Validation Loss: 0.8839, Validation Accuracy: 0.6565\n",
      "Epoch 5/10, Train Loss: 0.5461, Validation Loss: 0.9652, Validation Accuracy: 0.6633\n",
      "Epoch 6/10, Train Loss: 0.3062, Validation Loss: 1.1501, Validation Accuracy: 0.6590\n",
      "Epoch 7/10, Train Loss: 0.1770, Validation Loss: 1.3947, Validation Accuracy: 0.6522\n",
      "Epoch 8/10, Train Loss: 0.0816, Validation Loss: 1.7845, Validation Accuracy: 0.6438\n",
      "Epoch 9/10, Train Loss: 0.0383, Validation Loss: 1.8847, Validation Accuracy: 0.6539\n",
      "Epoch 10/10, Train Loss: 0.0418, Validation Loss: 1.9793, Validation Accuracy: 0.6446\n",
      "Best Validation Accuracy: 0.6633\n"
     ]
    }
   ],
   "source": [
    "# Hyperparameters\n",
    "learning_rate = 0.001\n",
    "num_epochs = 10\n",
    "\n",
    "# Loss function and optimizer\n",
    "criterion = nn.CrossEntropyLoss()\n",
    "optimizer = optim.Adam(model.parameters(), lr=learning_rate)\n",
    "\n",
    "# Training function\n",
    "def train(model, train_loader, criterion, optimizer, device):\n",
    "    model.train()  # Set model to training mode\n",
    "    running_loss = 0.0\n",
    "    for images, labels in train_loader:\n",
    "        images, labels = images.to(device), labels.to(device)\n",
    "\n",
    "        optimizer.zero_grad()  # Clear gradients\n",
    "        outputs = model(images)  # Forward pass\n",
    "        loss = criterion(outputs, labels)  # Compute loss\n",
    "        loss.backward()  # Backward pass\n",
    "        optimizer.step()  # Update weights\n",
    "\n",
    "        running_loss += loss.item() * images.size(0)\n",
    "    epoch_loss = running_loss / len(train_loader.dataset)\n",
    "    return epoch_loss\n",
    "\n",
    "# Validation function\n",
    "def validate(model, test_loader, criterion, device):\n",
    "    model.eval()  # Set model to evaluation mode\n",
    "    running_loss = 0.0\n",
    "    all_preds = []\n",
    "    all_labels = []\n",
    "    with torch.no_grad():\n",
    "        for images, labels in test_loader:\n",
    "            images, labels = images.to(device), labels.to(device)\n",
    "            outputs = model(images)  # Forward pass\n",
    "            loss = criterion(outputs, labels)  # Compute loss\n",
    "\n",
    "            running_loss += loss.item() * images.size(0)\n",
    "            preds = torch.argmax(outputs, dim=1)\n",
    "            all_preds.extend(preds.cpu().numpy())\n",
    "            all_labels.extend(labels.cpu().numpy())\n",
    "\n",
    "    epoch_loss = running_loss / len(test_loader.dataset)\n",
    "    accuracy = accuracy_score(all_labels, all_preds)\n",
    "    return epoch_loss, accuracy\n",
    "\n",
    "# Training loop\n",
    "best_accuracy = 0.0\n",
    "for epoch in range(num_epochs):\n",
    "    train_loss = train(model, train_loader, criterion, optimizer, device)\n",
    "    val_loss, val_accuracy = validate(model, test_loader, criterion, device)\n",
    "    \n",
    "    print(f\"Epoch {epoch+1}/{num_epochs}, \"\n",
    "          f\"Train Loss: {train_loss:.4f}, \"\n",
    "          f\"Validation Loss: {val_loss:.4f}, \"\n",
    "          f\"Validation Accuracy: {val_accuracy:.4f}\")\n",
    "\n",
    "    if val_accuracy > best_accuracy:\n",
    "        best_accuracy = val_accuracy\n",
    "        torch.save(model.state_dict(), 'best_model.pth')  # Save the best model\n",
    "\n",
    "print(f\"Best Validation Accuracy: {best_accuracy:.4f}\")\n"
   ]
  },
  {
   "cell_type": "markdown",
   "id": "4653b359",
   "metadata": {},
   "source": [
    "# Step 4: Loading the Model and Making Predictions"
   ]
  },
  {
   "cell_type": "code",
   "execution_count": 8,
   "id": "9c69b1a5",
   "metadata": {},
   "outputs": [
    {
     "name": "stdout",
     "output_type": "stream",
     "text": [
      "Predicted class: home_office\n"
     ]
    }
   ],
   "source": [
    "# Load the best model\n",
    "model.load_state_dict(torch.load('best_model.pth'))\n",
    "model.to(device)\n",
    "\n",
    "# Function to predict on the test set\n",
    "def predict(model, test_loader, device):\n",
    "    model.eval()\n",
    "    all_preds = []\n",
    "    with torch.no_grad():\n",
    "        for images, _ in test_loader:\n",
    "            images = images.to(device)\n",
    "            outputs = model(images)\n",
    "            preds = torch.argmax(outputs, dim=1)\n",
    "            all_preds.extend(preds.cpu().numpy())\n",
    "    return all_preds\n",
    "\n",
    "# Predict on the test set\n",
    "test_preds = predict(model, test_loader, device)\n",
    "\n",
    "# Function to predict on a single image\n",
    "def predict_single_image(model, image_path, transform, device):\n",
    "    model.eval()\n",
    "    image = Image.open(image_path)\n",
    "    image = transform(image).unsqueeze(0).to(device)\n",
    "    with torch.no_grad():\n",
    "        output = model(image)\n",
    "        pred = torch.argmax(output, dim=1).cpu().numpy()[0]\n",
    "    return dataset.classes[pred]\n",
    "\n",
    "# Predict on a single image\n",
    "image_path = '../original_dataset/home_office/gsun_00ba303fa8c4006c1a6fd17f2cc3dff4.jpg'\n",
    "single_pred = predict_single_image(model, image_path, transform, device)\n",
    "print(f\"Predicted class: {single_pred}\")\n"
   ]
  },
  {
   "cell_type": "markdown",
   "id": "f361b8f3",
   "metadata": {},
   "source": [
    "# Confusion Matrix"
   ]
  },
  {
   "cell_type": "code",
   "execution_count": 9,
   "id": "2a76f7f3",
   "metadata": {},
   "outputs": [
    {
     "data": {
      "image/png": "[encoded data removed]",
      "text/plain": [
       "<Figure size 640x480 with 2 Axes>"
      ]
     },
     "metadata": {},
     "output_type": "display_data"
    }
   ],
   "source": [
    "# Generate confusion matrix\n",
    "y_test_labels = [label for _, label in test_dataset]\n",
    "cm = confusion_matrix(y_test_labels, test_preds)\n",
    "disp = ConfusionMatrixDisplay(confusion_matrix=cm, display_labels=dataset.classes)\n",
    "disp.plot(cmap=plt.cm.Blues)\n",
    "plt.title(\"Confusion Matrix - CNN Model\")\n",
    "plt.show()"
   ]
  },
  {
   "cell_type": "markdown",
   "id": "d061ba1b",
   "metadata": {},
   "source": [
    "# Evaluate the model"
   ]
  },
  {
   "cell_type": "code",
   "execution_count": 12,
   "id": "6c9e5816",
   "metadata": {},
   "outputs": [
    {
     "name": "stdout",
     "output_type": "stream",
     "text": [
      "Accuracy: 0.6632739609838847\n",
      "Classification Report:\n",
      "               precision    recall  f1-score   support\n",
      "\n",
      " home_office       0.81      0.77      0.79       163\n",
      "  hotel_room       0.52      0.80      0.63       269\n",
      "      church       0.70      0.68      0.69       306\n",
      "      museum       0.40      0.14      0.20       146\n",
      " supermarket       0.81      0.72      0.76       295\n",
      "\n",
      "    accuracy                           0.66      1179\n",
      "   macro avg       0.65      0.62      0.62      1179\n",
      "weighted avg       0.66      0.66      0.65      1179\n",
      "\n"
     ]
    }
   ],
   "source": [
    "accuracy = accuracy_score(y_test_labels, test_preds)\n",
    "print(\"Accuracy:\", accuracy)\n",
    "print(\"Classification Report:\\n\", classification_report(y_test_labels, test_preds, target_names=classes))"
   ]
  },
  {
   "cell_type": "code",
   "execution_count": null,
   "id": "f9683c09",
   "metadata": {},
   "outputs": [],
   "source": []
  }
 ],
 "metadata": {
  "kernelspec": {
   "display_name": "Python 3 (ipykernel)",
   "language": "python",
   "name": "python3"
  },
  "language_info": {
   "codemirror_mode": {
    "name": "ipython",
    "version": 3
   },
   "file_extension": ".py",
   "mimetype": "text/x-python",
   "name": "python",
   "nbconvert_exporter": "python",
   "pygments_lexer": "ipython3",
   "version": "3.11.7"
  }
 },
 "nbformat": 4,
 "nbformat_minor": 5
}
